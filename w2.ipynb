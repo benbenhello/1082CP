{
 "cells": [
  {
   "cell_type": "markdown",
   "metadata": {},
   "source": [
    "# 第一題【猜數字遊戲】"
   ]
  },
  {
   "cell_type": "code",
   "execution_count": 5,
   "metadata": {},
   "outputs": [
    {
     "name": "stdout",
     "output_type": "stream",
     "text": [
      "請猜一個 1 到 100 的 整數50\n",
      "太小囉～～\n",
      "\n",
      "請猜一個 50 到 100 的 整數75\n",
      "太小囉～～\n",
      "\n",
      "請猜一個 75 到 100 的 整數80\n",
      "太小囉～～\n",
      "\n",
      "請猜一個 80 到 100 的 整數85\n",
      "太大囉～～\n",
      "\n",
      "請猜一個 80 到 85 的 整數90\n",
      "中文不通？？\n",
      "請猜一個 80 到 85 的 整數82\n",
      "太大囉～～\n",
      "\n",
      "請猜一個 80 到 82 的 整數81\n",
      "BOOM ~~ 密碼是 81\n"
     ]
    }
   ],
   "source": [
    "import random\n",
    "def checkVaildInt(value,r1,r2):\n",
    "    if value.isdigit():\n",
    "        if int(value)<=r2 and int(value)>=r1:\n",
    "            return True\n",
    "        else:\n",
    "            return False\n",
    "    else:\n",
    "        return False\n",
    "l = 1\n",
    "r = 100\n",
    "target = random.randint(l,r)\n",
    "while 1:\n",
    "            guess = input(\"請猜一個 {} 到 {} 的 整數\".format(l,r))\n",
    "            if checkVaildInt(guess,l,r):\n",
    "                if int(guess) > target:\n",
    "                    print(\"太大囉～～\\n\")\n",
    "                    r = int(guess)\n",
    "                elif int(guess) < target:\n",
    "                    print(\"太小囉～～\\n\")\n",
    "                    l = int(guess)\n",
    "                else:\n",
    "                    print(\"BOOM ~~ 密碼是 {}\".format(target))\n",
    "                    break\n",
    "            else:\n",
    "                print(\"中文不通？？\")\n",
    "                continue"
   ]
  },
  {
   "cell_type": "markdown",
   "metadata": {},
   "source": [
    "# 第二題【感恩讚嘆機器人】"
   ]
  },
  {
   "cell_type": "code",
   "execution_count": 8,
   "metadata": {},
   "outputs": [
    {
     "name": "stdout",
     "output_type": "stream",
     "text": [
      "請輸入一句話 : hi\n",
      "感恩benben，讚嘆benben\n",
      "請輸入一句話 : bye\n",
      "感恩benben，讚嘆benben\n"
     ]
    }
   ],
   "source": [
    "message =\"\"\n",
    "name = \"benben\"\n",
    "while message != \"bye\":\n",
    "    message = input(\"請輸入一句話 : \")\n",
    "    print(\"感恩{}，讚嘆{}\".format(name,name))"
   ]
  },
  {
   "cell_type": "markdown",
   "metadata": {},
   "source": [
    "# 第三題 【寫個函數讓字串倒過來排】"
   ]
  },
  {
   "cell_type": "code",
   "execution_count": 12,
   "metadata": {},
   "outputs": [
    {
     "name": "stdout",
     "output_type": "stream",
     "text": [
      "請輸入想翻轉的字串hello\n",
      "hello 翻轉後的結果是 : olleh\n"
     ]
    }
   ],
   "source": [
    "def reverse(str):\n",
    "    r_str = \"\"\n",
    "    for i in range(len(str)):\n",
    "        r_str+=str[len(str)-i-1]\n",
    "    return r_str\n",
    "\n",
    "string = input(\"請輸入想翻轉的字串\")\n",
    "reverse_string = reverse(string)\n",
    "print(\"{} 翻轉後的結果是 : {}\".format(string,reverse_string))       \n",
    "        "
   ]
  },
  {
   "cell_type": "markdown",
   "metadata": {},
   "source": [
    "# 挑戰題一【天干地支】"
   ]
  },
  {
   "cell_type": "code",
   "execution_count": 16,
   "metadata": {},
   "outputs": [
    {
     "name": "stdout",
     "output_type": "stream",
     "text": [
      "2014 是 甲午年\n",
      "2015 是 乙未年\n",
      "2016 是 丙申年\n",
      "2017 是 丁酉年\n",
      "2018 是 戊戌年\n",
      "2019 是 己亥年\n",
      "2020 是 庚子年\n",
      "2021 是 辛醜年\n",
      "2022 是 壬寅年\n",
      "2023 是 癸卯年\n",
      "2024 是 甲辰年\n",
      "2025 是 乙巳年\n",
      "2026 是 丙午年\n",
      "2027 是 丁未年\n",
      "2028 是 戊申年\n",
      "2029 是 己酉年\n",
      "2030 是 庚戌年\n",
      "2031 是 辛亥年\n",
      "2032 是 壬子年\n",
      "2033 是 癸醜年\n",
      "2034 是 甲寅年\n",
      "2035 是 乙卯年\n",
      "2036 是 丙辰年\n",
      "2037 是 丁巳年\n",
      "2038 是 戊午年\n",
      "2039 是 己未年\n",
      "2040 是 庚申年\n",
      "2041 是 辛酉年\n",
      "2042 是 壬戌年\n",
      "2043 是 癸亥年\n",
      "2044 是 甲子年\n",
      "2045 是 乙醜年\n",
      "2046 是 丙寅年\n",
      "2047 是 丁卯年\n",
      "2048 是 戊辰年\n",
      "2049 是 己巳年\n",
      "2050 是 庚午年\n",
      "2051 是 辛未年\n",
      "2052 是 壬申年\n",
      "2053 是 癸酉年\n",
      "2054 是 甲戌年\n",
      "2055 是 乙亥年\n",
      "2056 是 丙子年\n",
      "2057 是 丁醜年\n",
      "2058 是 戊寅年\n",
      "2059 是 己卯年\n",
      "2060 是 庚辰年\n",
      "2061 是 辛巳年\n",
      "2062 是 壬午年\n",
      "2063 是 癸未年\n",
      "2064 是 甲申年\n",
      "2065 是 乙酉年\n",
      "2066 是 丙戌年\n",
      "2067 是 丁亥年\n",
      "2068 是 戊子年\n",
      "2069 是 己醜年\n",
      "2070 是 庚寅年\n",
      "2071 是 辛卯年\n",
      "2072 是 壬辰年\n",
      "2073 是 癸巳年\n"
     ]
    }
   ],
   "source": [
    "天 = 0\n",
    "地 = 6\n",
    "天干 = list(\"甲乙丙丁戊己庚辛壬癸\")\n",
    "地支 = list(\"子醜寅卯辰巳午未申酉戌亥\")\n",
    "for i in range(2014,2074):\n",
    "    print(\"{} 是 {}{}年\".format(i,天干[天],地支[地]))\n",
    "    天 = (天+1)%10\n",
    "    地 = (地+1)%12\n",
    "    "
   ]
  },
  {
   "cell_type": "markdown",
   "metadata": {},
   "source": [
    "# 挑戰題二【我有一棵樹】"
   ]
  },
  {
   "cell_type": "code",
   "execution_count": 19,
   "metadata": {},
   "outputs": [
    {
     "name": "stdout",
     "output_type": "stream",
     "text": [
      "    *    \n",
      "   ***   \n",
      "  *****  \n",
      " ******* \n",
      "*********\n",
      "       *       \n",
      "      ***      \n",
      "     *****     \n",
      "    *******    \n",
      "   *********   \n",
      "  ***********  \n",
      " ************* \n",
      "***************\n"
     ]
    }
   ],
   "source": [
    "def tree(size):\n",
    "    for i in range(1,size):\n",
    "        space = \" \"*(size-1-i)\n",
    "        star = '*'*(i*2-1)\n",
    "        print(space+star+space)\n",
    "tree(6)\n",
    "tree(9)"
   ]
  },
  {
   "cell_type": "markdown",
   "metadata": {},
   "source": [
    "# 挑戰題三：自己出"
   ]
  },
  {
   "cell_type": "code",
   "execution_count": null,
   "metadata": {},
   "outputs": [
    {
     "name": "stdout",
     "output_type": "stream",
     "text": [
      "輸入 s 開始遊戲 ; q 結束遊戲\n",
      "s\n",
      "\n",
      "遊戲開始\n",
      "\n",
      "請猜一個 4 位數的整數 (不能重複)12321\n",
      "中文不通？？\n",
      "請猜一個 4 位數的整數 (不能重複)1312\n",
      "中文不通？？\n",
      "請猜一個 4 位數的整數 (不能重複)2134\n",
      "1A0B\n",
      "請猜一個 4 位數的整數 (不能重複)q\n",
      "中文不通？？\n"
     ]
    }
   ],
   "source": [
    "import random\n",
    "def checkVaildInt(value):\n",
    "    if value.isdigit():\n",
    "        if len(set(value)) == 4:\n",
    "            return True\n",
    "        else:\n",
    "            return False\n",
    "    else:\n",
    "        return False\n",
    "while 1:\n",
    "    switch = input(\"輸入 s 開始遊戲 ; q 結束遊戲\\n\")\n",
    "    if switch != 's' and switch != 'q':\n",
    "        print(\"別亂打！！\")\n",
    "        continue\n",
    "    elif switch == 's':\n",
    "        print(\"\\n遊戲開始\\n\")\n",
    "        target = random.sample(range(10), 4)\n",
    "        over = False\n",
    "        while not over:\n",
    "            A = 0\n",
    "            B = 0\n",
    "            guess = input(\"請猜一個 4 位數的整數 (不能重複)\")\n",
    "            if checkVaildInt(guess):\n",
    "                for i in range(4):\n",
    "                    if int(guess[i]) not in target:\n",
    "                        continue\n",
    "                    elif int(guess[i]) in target and int(guess[i]) != target[i]:\n",
    "                        B+=1\n",
    "                    else :\n",
    "                        A+=1\n",
    "                if A == 4 :\n",
    "                    print(\"恭喜你猜出答案 {}\".format(guess))\n",
    "                    over = True\n",
    "                else :\n",
    "                    print(\"{}A{}B\".format(A,B))\n",
    "            else:\n",
    "                print(\"中文不通？？\")\n",
    "                continue\n",
    "    else:\n",
    "        print(\"886\")\n",
    "        break"
   ]
  },
  {
   "cell_type": "code",
   "execution_count": null,
   "metadata": {},
   "outputs": [],
   "source": []
  }
 ],
 "metadata": {
  "kernelspec": {
   "display_name": "Python 3",
   "language": "python",
   "name": "python3"
  },
  "language_info": {
   "codemirror_mode": {
    "name": "ipython",
    "version": 3
   },
   "file_extension": ".py",
   "mimetype": "text/x-python",
   "name": "python",
   "nbconvert_exporter": "python",
   "pygments_lexer": "ipython3",
   "version": "3.7.6"
  }
 },
 "nbformat": 4,
 "nbformat_minor": 2
}
