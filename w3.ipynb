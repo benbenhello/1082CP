{
 "cells": [
  {
   "cell_type": "code",
   "execution_count": 19,
   "metadata": {},
   "outputs": [],
   "source": [
    "%matplotlib inline\n",
    "import numpy as np\n",
    "import matplotlib.pyplot as plt"
   ]
  },
  {
   "cell_type": "markdown",
   "metadata": {},
   "source": [
    "# 第一題"
   ]
  },
  {
   "cell_type": "code",
   "execution_count": 24,
   "metadata": {},
   "outputs": [],
   "source": [
    "classes = []\n",
    "for i in range(3):\n",
    "    c = []\n",
    "    for j in range(10):\n",
    "        score = np.array(np.random.randint(30,100,5))\n",
    "        c.append(score)\n",
    "    c = np.array(c)\n",
    "    classes.append(c)\n",
    "    "
   ]
  },
  {
   "cell_type": "code",
   "execution_count": 25,
   "metadata": {},
   "outputs": [],
   "source": [
    "weights=[0.25,0.25,0.25,0.15,0.10]"
   ]
  },
  {
   "cell_type": "code",
   "execution_count": 32,
   "metadata": {},
   "outputs": [
    {
     "name": "stdout",
     "output_type": "stream",
     "text": [
      "第1個班的加權分數 : [60.55, 65.75, 80.0, 77.15, 77.05, 64.55, 79.95, 52.650000000000006, 64.55, 78.25]\n",
      "第2個班的加權分數 : [54.300000000000004, 70.15, 74.75, 56.95, 59.95, 53.3, 72.75, 74.8, 64.95, 54.1]\n",
      "第3個班的加權分數 : [54.550000000000004, 62.550000000000004, 67.65, 58.550000000000004, 76.5, 55.849999999999994, 59.75, 66.9, 70.15, 67.6]\n",
      "個班的加權平均分數：[70.045 63.6   64.005]\n"
     ]
    }
   ],
   "source": [
    "output = []\n",
    "for i in range(len(classes)):\n",
    "    scores = np.dot(classes[i],weights)\n",
    "    print(\"第{}個班的加權分數 : {}\".format(i+1,list(scores)))\n",
    "    output.append(sum(scores)/10)\n",
    "output = np.array(output)\n",
    "print(\"個班的加權平均分數：{}\".format(output))"
   ]
  },
  {
   "cell_type": "markdown",
   "metadata": {},
   "source": [
    "# 第二題"
   ]
  },
  {
   "cell_type": "code",
   "execution_count": 33,
   "metadata": {},
   "outputs": [],
   "source": [
    "students = np.random.randint(0,100,40)"
   ]
  },
  {
   "cell_type": "code",
   "execution_count": 41,
   "metadata": {},
   "outputs": [
    {
     "name": "stdout",
     "output_type": "stream",
     "text": [
      "最高分: 98\n",
      "最低分: 6\n",
      "及格人數(>=60): 16\n",
      "平均數: 47.25\n",
      "標準差: 30.562845090076284\n"
     ]
    }
   ],
   "source": [
    "print(\"最高分: {}\\n最低分: {}\\n及格人數(>=60): {}\\n平均數: {}\\n標準差: {}\".format(max(students),min(students),len(students[students>=60]),np.mean(students),np.std(students)))"
   ]
  },
  {
   "cell_type": "code",
   "execution_count": 93,
   "metadata": {},
   "outputs": [
    {
     "data": {
      "text/plain": [
       "(array([9., 5., 3., 2., 4., 1., 3., 6., 0., 7.]),\n",
       " array([ 6. , 15.2, 24.4, 33.6, 42.8, 52. , 61.2, 70.4, 79.6, 88.8, 98. ]),\n",
       " <a list of 10 Patch objects>)"
      ]
     },
     "execution_count": 93,
     "metadata": {},
     "output_type": "execute_result"
    },
    {
     "data": {
      "image/png": "[encoded data removed]",
      "text/plain": [
       "<Figure size 432x288 with 1 Axes>"
      ]
     },
     "metadata": {
      "needs_background": "light"
     },
     "output_type": "display_data"
    }
   ],
   "source": [
    "plt.hist(students,bins=10,edgecolor='black')"
   ]
  },
  {
   "cell_type": "markdown",
   "metadata": {},
   "source": [
    "# 挑戰題一"
   ]
  },
  {
   "cell_type": "code",
   "execution_count": 105,
   "metadata": {},
   "outputs": [],
   "source": [
    "def score(score_array):\n",
    "    w1 = [0.2,0.35,0.45]\n",
    "    w2 = [0,0.4,0.6]\n",
    "    score_list = []\n",
    "    for i in score_array:\n",
    "        for j in i:\n",
    "            s1 = np.dot(j,w1)\n",
    "            s2 = np.dot(j,w2)\n",
    "            score_list.append(max(s1,s2))\n",
    "    new_score_array = np.array(score_list)\n",
    "    new_score_array = new_score_array.reshape(3,30,1)\n",
    "    return new_score_array"
   ]
  },
  {
   "cell_type": "code",
   "execution_count": 113,
   "metadata": {},
   "outputs": [
    {
     "name": "stdout",
     "output_type": "stream",
     "text": [
      "原始成績:[[[38 27 45]\n",
      "  [81 35 72]\n",
      "  [98 33 88]\n",
      "  [63 12 29]\n",
      "  [22 78 94]\n",
      "  [78 34 65]\n",
      "  [98 18 64]\n",
      "  [34  3 64]\n",
      "  [26  4 78]\n",
      "  [24 94 17]\n",
      "  [93 45 53]\n",
      "  [ 1 52  6]\n",
      "  [ 1 88 86]\n",
      "  [19 83 99]\n",
      "  [81 55 23]\n",
      "  [30 49  9]\n",
      "  [17 28 82]\n",
      "  [56 84 41]\n",
      "  [69 86 57]\n",
      "  [90 66 71]\n",
      "  [83 32  6]\n",
      "  [67 11 67]\n",
      "  [64 64 28]\n",
      "  [21 48 50]\n",
      "  [ 9 96 75]\n",
      "  [11 88 23]\n",
      "  [44  1 19]\n",
      "  [65 43 54]\n",
      "  [56 54 23]\n",
      "  [45 50 25]]\n",
      "\n",
      " [[37 10  2]\n",
      "  [39 56 48]\n",
      "  [59 64 66]\n",
      "  [16 91 93]\n",
      "  [93 45 92]\n",
      "  [86 20 64]\n",
      "  [34 28 79]\n",
      "  [45 76 22]\n",
      "  [95 67  8]\n",
      "  [65 60  1]\n",
      "  [29 90 61]\n",
      "  [33 57 10]\n",
      "  [27 13 50]\n",
      "  [22  3 60]\n",
      "  [ 3 86 40]\n",
      "  [12 72 27]\n",
      "  [82  0 60]\n",
      "  [15 79 56]\n",
      "  [30 13 89]\n",
      "  [77 23 27]\n",
      "  [74 68 17]\n",
      "  [95 11 37]\n",
      "  [67 68  7]\n",
      "  [ 3 41 15]\n",
      "  [18 61 64]\n",
      "  [48 36 62]\n",
      "  [26 59 41]\n",
      "  [20 62 30]\n",
      "  [99 95 63]\n",
      "  [47 39  0]]\n",
      "\n",
      " [[87 79 95]\n",
      "  [12 23 82]\n",
      "  [55  4 25]\n",
      "  [88 42 70]\n",
      "  [56 88 26]\n",
      "  [30 75 32]\n",
      "  [58 84 41]\n",
      "  [11  0  1]\n",
      "  [56 73  9]\n",
      "  [19 42 71]\n",
      "  [85 35 38]\n",
      "  [99 29 42]\n",
      "  [13 61 54]\n",
      "  [26 63 50]\n",
      "  [70 11 26]\n",
      "  [ 4 37 56]\n",
      "  [78 11 45]\n",
      "  [25  9 31]\n",
      "  [52 76 85]\n",
      "  [92  0  4]\n",
      "  [10 36  6]\n",
      "  [68 31 83]\n",
      "  [ 1 99 86]\n",
      "  [ 2 76 46]\n",
      "  [46 44 99]\n",
      "  [82  1  6]\n",
      "  [17 41 89]\n",
      "  [87 37  9]\n",
      "  [72 96  2]\n",
      "  [27 88 76]]]\n",
      "(3, 30, 3)\n",
      "加權成績:[[[37.8 ]\n",
      "  [60.85]\n",
      "  [70.75]\n",
      "  [29.85]\n",
      "  [87.6 ]\n",
      "  [56.75]\n",
      "  [54.7 ]\n",
      "  [39.6 ]\n",
      "  [48.4 ]\n",
      "  [47.8 ]\n",
      "  [58.2 ]\n",
      "  [24.4 ]\n",
      "  [86.8 ]\n",
      "  [92.6 ]\n",
      "  [45.8 ]\n",
      "  [27.2 ]\n",
      "  [60.4 ]\n",
      "  [59.05]\n",
      "  [69.55]\n",
      "  [73.05]\n",
      "  [30.5 ]\n",
      "  [47.4 ]\n",
      "  [47.8 ]\n",
      "  [49.2 ]\n",
      "  [83.4 ]\n",
      "  [49.  ]\n",
      "  [17.7 ]\n",
      "  [52.35]\n",
      "  [40.45]\n",
      "  [37.75]]\n",
      "\n",
      " [[11.8 ]\n",
      "  [51.2 ]\n",
      "  [65.2 ]\n",
      "  [92.2 ]\n",
      "  [75.75]\n",
      "  [53.  ]\n",
      "  [58.6 ]\n",
      "  [45.5 ]\n",
      "  [46.05]\n",
      "  [34.45]\n",
      "  [72.6 ]\n",
      "  [31.05]\n",
      "  [35.2 ]\n",
      "  [37.2 ]\n",
      "  [58.4 ]\n",
      "  [45.  ]\n",
      "  [43.4 ]\n",
      "  [65.2 ]\n",
      "  [58.6 ]\n",
      "  [35.6 ]\n",
      "  [46.25]\n",
      "  [39.5 ]\n",
      "  [40.35]\n",
      "  [25.4 ]\n",
      "  [62.8 ]\n",
      "  [51.6 ]\n",
      "  [48.2 ]\n",
      "  [42.8 ]\n",
      "  [81.4 ]\n",
      "  [23.05]]\n",
      "\n",
      " [[88.6 ]\n",
      "  [58.4 ]\n",
      "  [23.65]\n",
      "  [63.8 ]\n",
      "  [53.7 ]\n",
      "  [49.2 ]\n",
      "  [59.45]\n",
      "  [ 2.65]\n",
      "  [40.8 ]\n",
      "  [59.4 ]\n",
      "  [46.35]\n",
      "  [48.85]\n",
      "  [56.8 ]\n",
      "  [55.2 ]\n",
      "  [29.55]\n",
      "  [48.4 ]\n",
      "  [39.7 ]\n",
      "  [22.2 ]\n",
      "  [81.4 ]\n",
      "  [20.2 ]\n",
      "  [18.  ]\n",
      "  [62.2 ]\n",
      "  [91.2 ]\n",
      "  [58.  ]\n",
      "  [77.  ]\n",
      "  [19.45]\n",
      "  [69.8 ]\n",
      "  [34.4 ]\n",
      "  [48.9 ]\n",
      "  [80.8 ]]]\n",
      "(3, 30, 1)\n"
     ]
    }
   ],
   "source": [
    "C = []\n",
    "for i in range(3):\n",
    "    c = []\n",
    "    for i in range(30):\n",
    "        c.append(np.random.randint(0,100,3))\n",
    "    C.append(np.array(c))\n",
    "C = np.array(C)\n",
    "print(\"原始成績:{}\".format(C))\n",
    "print(C.shape)\n",
    "new_C = score(C)\n",
    "print(\"加權成績:{}\".format(new_C))\n",
    "print(new_C.shape)"
   ]
  },
  {
   "cell_type": "markdown",
   "metadata": {},
   "source": [
    "# 挑戰題二"
   ]
  },
  {
   "cell_type": "code",
   "execution_count": 114,
   "metadata": {},
   "outputs": [],
   "source": [
    "def change(target):\n",
    "    if target < 1:\n",
    "        return 0\n",
    "    else:\n",
    "        return 1\n",
    "    \n",
    "def transform(array):\n",
    "    for i in range(len(array)):\n",
    "        for j in range(len(array[i])):\n",
    "            array[i][j] = change(array[i][j])\n",
    "    return array\n",
    "        "
   ]
  },
  {
   "cell_type": "code",
   "execution_count": 129,
   "metadata": {},
   "outputs": [],
   "source": [
    "d = 5*np.random.rand(10).reshape(2,5)"
   ]
  },
  {
   "cell_type": "code",
   "execution_count": 131,
   "metadata": {},
   "outputs": [
    {
     "name": "stdout",
     "output_type": "stream",
     "text": [
      "[[1.67642922 4.69026563 3.92939352 2.18683586 4.56183274]\n",
      " [2.01719329 1.23557026 1.53597176 1.5440266  0.26491566]]\n",
      "[[1. 1. 1. 1. 1.]\n",
      " [1. 1. 1. 1. 0.]]\n"
     ]
    }
   ],
   "source": [
    "print(d)\n",
    "new_d = transform(d)\n",
    "print(new_d)"
   ]
  },
  {
   "cell_type": "code",
   "execution_count": 132,
   "metadata": {},
   "outputs": [
    {
     "data": {
      "text/plain": [
       "array([ 26,  28, 110, 132])"
      ]
     },
     "execution_count": 132,
     "metadata": {},
     "output_type": "execute_result"
    }
   ],
   "source": [
    "2 * np.array([13, 14, 55, 66])"
   ]
  },
  {
   "cell_type": "code",
   "execution_count": 134,
   "metadata": {},
   "outputs": [
    {
     "data": {
      "text/plain": [
       "[1, 2, 3]"
      ]
     },
     "execution_count": 134,
     "metadata": {},
     "output_type": "execute_result"
    }
   ],
   "source": [
    "a = [1,2]\n",
    "b  =[2,3]\n",
    "a+b[1:3]"
   ]
  },
  {
   "cell_type": "code",
   "execution_count": 135,
   "metadata": {},
   "outputs": [],
   "source": [
    "a  =[1,2,3,4,5]"
   ]
  },
  {
   "cell_type": "code",
   "execution_count": 136,
   "metadata": {},
   "outputs": [
    {
     "data": {
      "text/plain": [
       "[2, 3]"
      ]
     },
     "execution_count": 136,
     "metadata": {},
     "output_type": "execute_result"
    }
   ],
   "source": [
    "a[1:3]"
   ]
  },
  {
   "cell_type": "code",
   "execution_count": 140,
   "metadata": {},
   "outputs": [
    {
     "data": {
      "text/plain": [
       "0.7033169010695203"
      ]
     },
     "execution_count": 140,
     "metadata": {},
     "output_type": "execute_result"
    }
   ],
   "source": [
    "np.random.rand()"
   ]
  },
  {
   "cell_type": "code",
   "execution_count": 143,
   "metadata": {},
   "outputs": [
    {
     "ename": "NameError",
     "evalue": "name 'randn' is not defined",
     "output_type": "error",
     "traceback": [
      "\u001b[0;31m---------------------------------------------------------------------------\u001b[0m",
      "\u001b[0;31mNameError\u001b[0m                                 Traceback (most recent call last)",
      "\u001b[0;32m<ipython-input-143-5518118c34b7>\u001b[0m in \u001b[0;36m<module>\u001b[0;34m\u001b[0m\n\u001b[0;32m----> 1\u001b[0;31m \u001b[0mplt\u001b[0m\u001b[0;34m.\u001b[0m\u001b[0mplot\u001b[0m\u001b[0;34m(\u001b[0m\u001b[0mrandn\u001b[0m\u001b[0;34m[\u001b[0m \u001b[0;36m87\u001b[0m\u001b[0;34m]\u001b[0m\u001b[0;34m)\u001b[0m\u001b[0;34m\u001b[0m\u001b[0;34m\u001b[0m\u001b[0m\n\u001b[0m",
      "\u001b[0;31mNameError\u001b[0m: name 'randn' is not defined"
     ]
    }
   ],
   "source": [
    "plt.plot(randn[ 87])"
   ]
  },
  {
   "cell_type": "code",
   "execution_count": 145,
   "metadata": {},
   "outputs": [
    {
     "data": {
      "text/plain": [
       "True"
      ]
     },
     "execution_count": 145,
     "metadata": {},
     "output_type": "execute_result"
    }
   ],
   "source": [
    "'Z'>'B'"
   ]
  },
  {
   "cell_type": "code",
   "execution_count": null,
   "metadata": {},
   "outputs": [],
   "source": []
  }
 ],
 "metadata": {
  "kernelspec": {
   "display_name": "Python 3",
   "language": "python",
   "name": "python3"
  },
  "language_info": {
   "codemirror_mode": {
    "name": "ipython",
    "version": 3
   },
   "file_extension": ".py",
   "mimetype": "text/x-python",
   "name": "python",
   "nbconvert_exporter": "python",
   "pygments_lexer": "ipython3",
   "version": "3.7.6"
  }
 },
 "nbformat": 4,
 "nbformat_minor": 2
}
