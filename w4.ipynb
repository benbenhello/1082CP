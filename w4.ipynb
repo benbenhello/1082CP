{
 "cells": [
  {
   "cell_type": "code",
   "execution_count": 99,
   "metadata": {},
   "outputs": [],
   "source": [
    "%matplotlib inline\n",
    "import numpy as np\n",
    "import matplotlib.pyplot as plt\n",
    "from ipywidgets import interact\n",
    "from ipywidgets import interact_manual"
   ]
  },
  {
   "cell_type": "markdown",
   "metadata": {},
   "source": [
    "# 第一題：抽點系統"
   ]
  },
  {
   "cell_type": "code",
   "execution_count": 2,
   "metadata": {},
   "outputs": [],
   "source": [
    "def choose():\n",
    "    students = [\"大雄\",\"胖虎\",\"小夫\",\"宜靜\",\"小杉\"]\n",
    "    student = np.random.choice(students)\n",
    "    print(student)"
   ]
  },
  {
   "cell_type": "code",
   "execution_count": 3,
   "metadata": {},
   "outputs": [
    {
     "data": {
      "application/vnd.jupyter.widget-view+json": {
       "model_id": "d1513c92a55b4b65bfd4ca54623f36e3",
       "version_major": 2,
       "version_minor": 0
      },
      "text/plain": [
       "interactive(children=(Button(description='Run Interact', style=ButtonStyle()), Output()), _dom_classes=('widge…"
      ]
     },
     "metadata": {},
     "output_type": "display_data"
    },
    {
     "data": {
      "text/plain": [
       "<function __main__.choose()>"
      ]
     },
     "execution_count": 3,
     "metadata": {},
     "output_type": "execute_result"
    }
   ],
   "source": [
    "interact_manual(choose)"
   ]
  },
  {
   "cell_type": "markdown",
   "metadata": {},
   "source": [
    "# 第二題：變長變短"
   ]
  },
  {
   "cell_type": "code",
   "execution_count": 4,
   "metadata": {},
   "outputs": [],
   "source": [
    "bar = \"■\"\n",
    "def showBar(length):\n",
    "    print(bar*length)"
   ]
  },
  {
   "cell_type": "code",
   "execution_count": 5,
   "metadata": {},
   "outputs": [
    {
     "data": {
      "application/vnd.jupyter.widget-view+json": {
       "model_id": "608817d418e14a4180eb04b655e73178",
       "version_major": 2,
       "version_minor": 0
      },
      "text/plain": [
       "interactive(children=(IntSlider(value=10, description='length', max=20), Output()), _dom_classes=('widget-inte…"
      ]
     },
     "metadata": {},
     "output_type": "display_data"
    },
    {
     "data": {
      "text/plain": [
       "<function __main__.showBar(length)>"
      ]
     },
     "execution_count": 5,
     "metadata": {},
     "output_type": "execute_result"
    }
   ],
   "source": [
    "interact(showBar,length = (0,20))"
   ]
  },
  {
   "cell_type": "markdown",
   "metadata": {},
   "source": [
    "# 第三題"
   ]
  },
  {
   "cell_type": "code",
   "execution_count": 50,
   "metadata": {},
   "outputs": [],
   "source": [
    "def plot_circle(size):\n",
    "    circle2 = plt.Circle((0.5, 0.5), size, color='blue')\n",
    "    fig, ax = plt.subplots() # note we must use plt.subplots, not plt.subplot\n",
    "    ax.add_artist(circle2)\n"
   ]
  },
  {
   "cell_type": "code",
   "execution_count": 52,
   "metadata": {},
   "outputs": [
    {
     "data": {
      "application/vnd.jupyter.widget-view+json": {
       "model_id": "824c2e2f5e8e4831be77506a81fd65b1",
       "version_major": 2,
       "version_minor": 0
      },
      "text/plain": [
       "interactive(children=(FloatSlider(value=0.30000000000000004, description='size', max=0.5, min=0.1), Output()),…"
      ]
     },
     "metadata": {},
     "output_type": "display_data"
    },
    {
     "data": {
      "text/plain": [
       "<function __main__.plot_circle(size)>"
      ]
     },
     "execution_count": 52,
     "metadata": {},
     "output_type": "execute_result"
    }
   ],
   "source": [
    "interact(plot_circle,size=(0.1,0.5))"
   ]
  },
  {
   "cell_type": "markdown",
   "metadata": {},
   "source": [
    "# 挑戰題一：考試加權分數"
   ]
  },
  {
   "cell_type": "code",
   "execution_count": 18,
   "metadata": {},
   "outputs": [],
   "source": [
    "weight = {\n",
    "\"土語系\": [2, 2, 0, 1, 0, 0, 0, 1, 1, 0],\n",
    "\"財政系\": [1, 1.5, 0, 1.5, 0, 0, 0, 0, 0, 0],\n",
    "\"金融系\": [1, 1.5, 0, 2, 0, 0, 0, 0, 0, 0],\n",
    "\"國貿系\": [1.5, 2, 0, 2, 0, 0, 0, 0, 0, 0],\n",
    "\"會計系\": [1.5, 2, 0, 2, 0, 0, 0, 1, 1, 0],\n",
    "\"法律系\": [1, 2, 0, 1, 0, 0, 0, 1, 0, 1],\n",
    "\"公行系\": [1, 1.5, 0, 1.25, 0, 0, 0, 0, 0, 1.25],\n",
    "\"應數系\": [1, 1, 1.5, 0, 1, 1, 0, 0, 0, 0],\n",
    "\"教育系\": [1.5, 2, 0, 1.25, 0, 0, 0, 1, 1, 0]\n",
    "} "
   ]
  },
  {
   "cell_type": "code",
   "execution_count": 43,
   "metadata": {},
   "outputs": [],
   "source": [
    "def cal_score(w_key):\n",
    "    w = weight[w_key]\n",
    "    score = [86.5, 79.4, 88.2, 96.5, 86.3, 76.8, 96.1, 78.5, 82.4, 88.6]\n",
    "    print(round(np.dot(score,w)/sum(w),1))"
   ]
  },
  {
   "cell_type": "code",
   "execution_count": 44,
   "metadata": {
    "scrolled": true
   },
   "outputs": [
    {
     "data": {
      "application/vnd.jupyter.widget-view+json": {
       "model_id": "a758f27a31b84c069b5c66af92afe82f",
       "version_major": 2,
       "version_minor": 0
      },
      "text/plain": [
       "interactive(children=(Dropdown(description='w_key', options=('土語系', '財政系', '金融系', '國貿系', '會計系', '法律系', '公行系', …"
      ]
     },
     "metadata": {},
     "output_type": "display_data"
    },
    {
     "data": {
      "text/plain": [
       "<function __main__.cal_score(w_key)>"
      ]
     },
     "execution_count": 44,
     "metadata": {},
     "output_type": "execute_result"
    }
   ],
   "source": [
    "key = list(weight.keys())\n",
    "interact(cal_score,w_key=key)"
   ]
  },
  {
   "cell_type": "code",
   "execution_count": 1,
   "metadata": {},
   "outputs": [],
   "source": [
    "from scipy.cluster.hierarchy import dendrogram, linkage"
   ]
  },
  {
   "cell_type": "code",
   "execution_count": 8,
   "metadata": {},
   "outputs": [],
   "source": [
    " X = [[i,i] for i in [2,8, 0, 4, 1, 9, 9, 0]]"
   ]
  },
  {
   "cell_type": "code",
   "execution_count": 9,
   "metadata": {},
   "outputs": [],
   "source": [
    "Z = linkage(X, 'ward')"
   ]
  },
  {
   "cell_type": "code",
   "execution_count": 10,
   "metadata": {},
   "outputs": [
    {
     "data": {
      "text/plain": [
       "7"
      ]
     },
     "execution_count": 10,
     "metadata": {},
     "output_type": "execute_result"
    }
   ],
   "source": [
    "len(Z)"
   ]
  },
  {
   "cell_type": "code",
   "execution_count": 11,
   "metadata": {},
   "outputs": [
    {
     "data": {
      "text/plain": [
       "[[2, 2], [8, 8], [0, 0], [4, 4], [1, 1], [9, 9], [9, 9], [0, 0]]"
      ]
     },
     "execution_count": 11,
     "metadata": {},
     "output_type": "execute_result"
    }
   ],
   "source": [
    "X"
   ]
  },
  {
   "cell_type": "code",
   "execution_count": 12,
   "metadata": {},
   "outputs": [
    {
     "data": {
      "text/plain": [
       "array([[ 5.        ,  6.        ,  0.        ,  2.        ],\n",
       "       [ 2.        ,  7.        ,  0.        ,  2.        ],\n",
       "       [ 0.        ,  4.        ,  1.41421356,  2.        ],\n",
       "       [ 1.        ,  8.        ,  1.63299316,  3.        ],\n",
       "       [ 9.        , 10.        ,  3.        ,  4.        ],\n",
       "       [ 3.        , 12.        ,  5.81377674,  5.        ],\n",
       "       [11.        , 13.        , 19.90058626,  8.        ]])"
      ]
     },
     "execution_count": 12,
     "metadata": {},
     "output_type": "execute_result"
    }
   ],
   "source": [
    "Z"
   ]
  },
  {
   "cell_type": "code",
   "execution_count": 60,
   "metadata": {},
   "outputs": [],
   "source": [
    "import pandas as pd\n",
    "import numpy as np\n",
    "import scipy.cluster.hierarchy as sch\n",
    "from scipy import cluster"
   ]
  },
  {
   "cell_type": "code",
   "execution_count": 61,
   "metadata": {},
   "outputs": [],
   "source": [
    "data = pd.read_csv('/Users/ben/Desktop/ProteomeClustering/ProteomeClustering/Example/colonCancerProtRatio.csv',index_col=0)"
   ]
  },
  {
   "cell_type": "code",
   "execution_count": 62,
   "metadata": {},
   "outputs": [],
   "source": [
    "data = data.T"
   ]
  },
  {
   "cell_type": "code",
   "execution_count": 63,
   "metadata": {},
   "outputs": [
    {
     "data": {
      "text/html": [
       "<div>\n",
       "<style scoped>\n",
       "    .dataframe tbody tr th:only-of-type {\n",
       "        vertical-align: middle;\n",
       "    }\n",
       "\n",
       "    .dataframe tbody tr th {\n",
       "        vertical-align: top;\n",
       "    }\n",
       "\n",
       "    .dataframe thead th {\n",
       "        text-align: right;\n",
       "    }\n",
       "</style>\n",
       "<table border=\"1\" class=\"dataframe\">\n",
       "  <thead>\n",
       "    <tr style=\"text-align: right;\">\n",
       "      <th></th>\n",
       "      <th>A1BG</th>\n",
       "      <th>A2M</th>\n",
       "      <th>AAAS</th>\n",
       "      <th>AACS</th>\n",
       "      <th>AAGAB</th>\n",
       "      <th>AAK1</th>\n",
       "      <th>AAMDC</th>\n",
       "      <th>AAMP</th>\n",
       "      <th>AAR2</th>\n",
       "      <th>AARS</th>\n",
       "      <th>...</th>\n",
       "      <th>ZNF22</th>\n",
       "      <th>ZNF326</th>\n",
       "      <th>ZNF512</th>\n",
       "      <th>ZNF622</th>\n",
       "      <th>ZNF638</th>\n",
       "      <th>ZPR1</th>\n",
       "      <th>ZRANB2</th>\n",
       "      <th>ZW10</th>\n",
       "      <th>ZYX</th>\n",
       "      <th>ZZEF1</th>\n",
       "    </tr>\n",
       "  </thead>\n",
       "  <tbody>\n",
       "    <tr>\n",
       "      <td>01CO005</td>\n",
       "      <td>-1.6720</td>\n",
       "      <td>-1.2520</td>\n",
       "      <td>0.3365</td>\n",
       "      <td>-0.0500</td>\n",
       "      <td>0.3610</td>\n",
       "      <td>-0.0427</td>\n",
       "      <td>-0.0518</td>\n",
       "      <td>0.3840</td>\n",
       "      <td>0.6140</td>\n",
       "      <td>0.1790</td>\n",
       "      <td>...</td>\n",
       "      <td>-0.0114</td>\n",
       "      <td>0.1960</td>\n",
       "      <td>0.2730</td>\n",
       "      <td>0.1140</td>\n",
       "      <td>0.3057</td>\n",
       "      <td>0.1721</td>\n",
       "      <td>0.3980</td>\n",
       "      <td>0.1540</td>\n",
       "      <td>0.1540</td>\n",
       "      <td>-0.9730</td>\n",
       "    </tr>\n",
       "    <tr>\n",
       "      <td>01CO006</td>\n",
       "      <td>-2.1500</td>\n",
       "      <td>-1.7270</td>\n",
       "      <td>0.0706</td>\n",
       "      <td>0.1244</td>\n",
       "      <td>0.8450</td>\n",
       "      <td>-0.1673</td>\n",
       "      <td>-1.3830</td>\n",
       "      <td>0.3650</td>\n",
       "      <td>0.2079</td>\n",
       "      <td>0.0790</td>\n",
       "      <td>...</td>\n",
       "      <td>-0.5570</td>\n",
       "      <td>0.2960</td>\n",
       "      <td>-0.3980</td>\n",
       "      <td>0.2244</td>\n",
       "      <td>0.5080</td>\n",
       "      <td>-0.5690</td>\n",
       "      <td>0.1669</td>\n",
       "      <td>0.1270</td>\n",
       "      <td>-1.4230</td>\n",
       "      <td>-0.1178</td>\n",
       "    </tr>\n",
       "    <tr>\n",
       "      <td>01CO008</td>\n",
       "      <td>-1.7860</td>\n",
       "      <td>-2.4700</td>\n",
       "      <td>0.3100</td>\n",
       "      <td>-0.1892</td>\n",
       "      <td>0.1767</td>\n",
       "      <td>-0.1294</td>\n",
       "      <td>-0.3730</td>\n",
       "      <td>-0.3740</td>\n",
       "      <td>-0.4232</td>\n",
       "      <td>-0.4920</td>\n",
       "      <td>...</td>\n",
       "      <td>-0.2480</td>\n",
       "      <td>0.7390</td>\n",
       "      <td>-0.8550</td>\n",
       "      <td>0.5620</td>\n",
       "      <td>0.2547</td>\n",
       "      <td>0.0560</td>\n",
       "      <td>0.7830</td>\n",
       "      <td>-0.4062</td>\n",
       "      <td>-0.8079</td>\n",
       "      <td>-0.2120</td>\n",
       "    </tr>\n",
       "    <tr>\n",
       "      <td>01CO013</td>\n",
       "      <td>-2.1150</td>\n",
       "      <td>-0.4820</td>\n",
       "      <td>0.4180</td>\n",
       "      <td>-0.5480</td>\n",
       "      <td>0.7690</td>\n",
       "      <td>-0.3700</td>\n",
       "      <td>0.0420</td>\n",
       "      <td>-0.6660</td>\n",
       "      <td>0.4820</td>\n",
       "      <td>-0.2309</td>\n",
       "      <td>...</td>\n",
       "      <td>-0.5230</td>\n",
       "      <td>0.3263</td>\n",
       "      <td>-0.7820</td>\n",
       "      <td>0.5810</td>\n",
       "      <td>0.3589</td>\n",
       "      <td>0.0994</td>\n",
       "      <td>-0.4470</td>\n",
       "      <td>0.4812</td>\n",
       "      <td>-0.0740</td>\n",
       "      <td>-0.5690</td>\n",
       "    </tr>\n",
       "    <tr>\n",
       "      <td>01CO014</td>\n",
       "      <td>-1.7930</td>\n",
       "      <td>-1.9980</td>\n",
       "      <td>0.4380</td>\n",
       "      <td>0.5060</td>\n",
       "      <td>0.6520</td>\n",
       "      <td>-0.2702</td>\n",
       "      <td>-1.5120</td>\n",
       "      <td>0.6470</td>\n",
       "      <td>-0.0429</td>\n",
       "      <td>0.2263</td>\n",
       "      <td>...</td>\n",
       "      <td>-0.7570</td>\n",
       "      <td>0.1970</td>\n",
       "      <td>-1.3450</td>\n",
       "      <td>0.1750</td>\n",
       "      <td>0.4711</td>\n",
       "      <td>0.3670</td>\n",
       "      <td>0.1330</td>\n",
       "      <td>0.3239</td>\n",
       "      <td>-1.4630</td>\n",
       "      <td>-0.4493</td>\n",
       "    </tr>\n",
       "    <tr>\n",
       "      <td>...</td>\n",
       "      <td>...</td>\n",
       "      <td>...</td>\n",
       "      <td>...</td>\n",
       "      <td>...</td>\n",
       "      <td>...</td>\n",
       "      <td>...</td>\n",
       "      <td>...</td>\n",
       "      <td>...</td>\n",
       "      <td>...</td>\n",
       "      <td>...</td>\n",
       "      <td>...</td>\n",
       "      <td>...</td>\n",
       "      <td>...</td>\n",
       "      <td>...</td>\n",
       "      <td>...</td>\n",
       "      <td>...</td>\n",
       "      <td>...</td>\n",
       "      <td>...</td>\n",
       "      <td>...</td>\n",
       "      <td>...</td>\n",
       "      <td>...</td>\n",
       "    </tr>\n",
       "    <tr>\n",
       "      <td>21CO006</td>\n",
       "      <td>0.0380</td>\n",
       "      <td>-0.3850</td>\n",
       "      <td>-0.1531</td>\n",
       "      <td>-0.1420</td>\n",
       "      <td>0.0412</td>\n",
       "      <td>-0.2741</td>\n",
       "      <td>0.1750</td>\n",
       "      <td>0.0700</td>\n",
       "      <td>0.1622</td>\n",
       "      <td>0.2174</td>\n",
       "      <td>...</td>\n",
       "      <td>-0.2290</td>\n",
       "      <td>0.0624</td>\n",
       "      <td>-0.0914</td>\n",
       "      <td>0.3320</td>\n",
       "      <td>0.3616</td>\n",
       "      <td>-0.1290</td>\n",
       "      <td>-0.0100</td>\n",
       "      <td>0.3276</td>\n",
       "      <td>0.5363</td>\n",
       "      <td>-0.3352</td>\n",
       "    </tr>\n",
       "    <tr>\n",
       "      <td>21CO007</td>\n",
       "      <td>-1.9520</td>\n",
       "      <td>-1.8110</td>\n",
       "      <td>0.7850</td>\n",
       "      <td>-0.2600</td>\n",
       "      <td>0.5690</td>\n",
       "      <td>-0.4849</td>\n",
       "      <td>-2.5400</td>\n",
       "      <td>-0.1290</td>\n",
       "      <td>-0.1700</td>\n",
       "      <td>-0.0640</td>\n",
       "      <td>...</td>\n",
       "      <td>0.1560</td>\n",
       "      <td>0.6270</td>\n",
       "      <td>-0.0980</td>\n",
       "      <td>0.3926</td>\n",
       "      <td>0.8920</td>\n",
       "      <td>-0.2553</td>\n",
       "      <td>0.3670</td>\n",
       "      <td>-0.1830</td>\n",
       "      <td>-2.3720</td>\n",
       "      <td>-0.2994</td>\n",
       "    </tr>\n",
       "    <tr>\n",
       "      <td>22CO004</td>\n",
       "      <td>-1.3342</td>\n",
       "      <td>-1.9420</td>\n",
       "      <td>0.2892</td>\n",
       "      <td>0.3370</td>\n",
       "      <td>0.2552</td>\n",
       "      <td>-0.0550</td>\n",
       "      <td>-1.1050</td>\n",
       "      <td>-0.0014</td>\n",
       "      <td>0.0569</td>\n",
       "      <td>0.4850</td>\n",
       "      <td>...</td>\n",
       "      <td>-0.0529</td>\n",
       "      <td>0.3422</td>\n",
       "      <td>0.2070</td>\n",
       "      <td>0.2523</td>\n",
       "      <td>0.1690</td>\n",
       "      <td>0.3144</td>\n",
       "      <td>0.5510</td>\n",
       "      <td>0.2470</td>\n",
       "      <td>-0.8498</td>\n",
       "      <td>-0.3182</td>\n",
       "    </tr>\n",
       "    <tr>\n",
       "      <td>22CO006</td>\n",
       "      <td>-0.0690</td>\n",
       "      <td>0.2377</td>\n",
       "      <td>0.3630</td>\n",
       "      <td>0.5470</td>\n",
       "      <td>0.4430</td>\n",
       "      <td>-0.1480</td>\n",
       "      <td>-1.1740</td>\n",
       "      <td>0.1858</td>\n",
       "      <td>-0.6130</td>\n",
       "      <td>-0.1122</td>\n",
       "      <td>...</td>\n",
       "      <td>-0.4333</td>\n",
       "      <td>0.6390</td>\n",
       "      <td>-0.4540</td>\n",
       "      <td>-0.0540</td>\n",
       "      <td>-0.0035</td>\n",
       "      <td>0.4186</td>\n",
       "      <td>-0.0974</td>\n",
       "      <td>-0.1570</td>\n",
       "      <td>-1.1416</td>\n",
       "      <td>-0.4560</td>\n",
       "    </tr>\n",
       "    <tr>\n",
       "      <td>27CO004</td>\n",
       "      <td>-2.6020</td>\n",
       "      <td>-0.7870</td>\n",
       "      <td>-0.0850</td>\n",
       "      <td>0.0470</td>\n",
       "      <td>0.3120</td>\n",
       "      <td>-0.0510</td>\n",
       "      <td>-0.4960</td>\n",
       "      <td>-0.3890</td>\n",
       "      <td>0.3723</td>\n",
       "      <td>-0.2102</td>\n",
       "      <td>...</td>\n",
       "      <td>-0.3539</td>\n",
       "      <td>-0.1730</td>\n",
       "      <td>-0.1430</td>\n",
       "      <td>0.2842</td>\n",
       "      <td>0.3400</td>\n",
       "      <td>0.0060</td>\n",
       "      <td>-0.3062</td>\n",
       "      <td>0.4580</td>\n",
       "      <td>-0.7280</td>\n",
       "      <td>-0.0883</td>\n",
       "    </tr>\n",
       "  </tbody>\n",
       "</table>\n",
       "<p>96 rows × 4376 columns</p>\n",
       "</div>"
      ],
      "text/plain": [
       "           A1BG     A2M    AAAS    AACS   AAGAB    AAK1   AAMDC    AAMP  \\\n",
       "01CO005 -1.6720 -1.2520  0.3365 -0.0500  0.3610 -0.0427 -0.0518  0.3840   \n",
       "01CO006 -2.1500 -1.7270  0.0706  0.1244  0.8450 -0.1673 -1.3830  0.3650   \n",
       "01CO008 -1.7860 -2.4700  0.3100 -0.1892  0.1767 -0.1294 -0.3730 -0.3740   \n",
       "01CO013 -2.1150 -0.4820  0.4180 -0.5480  0.7690 -0.3700  0.0420 -0.6660   \n",
       "01CO014 -1.7930 -1.9980  0.4380  0.5060  0.6520 -0.2702 -1.5120  0.6470   \n",
       "...         ...     ...     ...     ...     ...     ...     ...     ...   \n",
       "21CO006  0.0380 -0.3850 -0.1531 -0.1420  0.0412 -0.2741  0.1750  0.0700   \n",
       "21CO007 -1.9520 -1.8110  0.7850 -0.2600  0.5690 -0.4849 -2.5400 -0.1290   \n",
       "22CO004 -1.3342 -1.9420  0.2892  0.3370  0.2552 -0.0550 -1.1050 -0.0014   \n",
       "22CO006 -0.0690  0.2377  0.3630  0.5470  0.4430 -0.1480 -1.1740  0.1858   \n",
       "27CO004 -2.6020 -0.7870 -0.0850  0.0470  0.3120 -0.0510 -0.4960 -0.3890   \n",
       "\n",
       "           AAR2    AARS  ...   ZNF22  ZNF326  ZNF512  ZNF622  ZNF638    ZPR1  \\\n",
       "01CO005  0.6140  0.1790  ... -0.0114  0.1960  0.2730  0.1140  0.3057  0.1721   \n",
       "01CO006  0.2079  0.0790  ... -0.5570  0.2960 -0.3980  0.2244  0.5080 -0.5690   \n",
       "01CO008 -0.4232 -0.4920  ... -0.2480  0.7390 -0.8550  0.5620  0.2547  0.0560   \n",
       "01CO013  0.4820 -0.2309  ... -0.5230  0.3263 -0.7820  0.5810  0.3589  0.0994   \n",
       "01CO014 -0.0429  0.2263  ... -0.7570  0.1970 -1.3450  0.1750  0.4711  0.3670   \n",
       "...         ...     ...  ...     ...     ...     ...     ...     ...     ...   \n",
       "21CO006  0.1622  0.2174  ... -0.2290  0.0624 -0.0914  0.3320  0.3616 -0.1290   \n",
       "21CO007 -0.1700 -0.0640  ...  0.1560  0.6270 -0.0980  0.3926  0.8920 -0.2553   \n",
       "22CO004  0.0569  0.4850  ... -0.0529  0.3422  0.2070  0.2523  0.1690  0.3144   \n",
       "22CO006 -0.6130 -0.1122  ... -0.4333  0.6390 -0.4540 -0.0540 -0.0035  0.4186   \n",
       "27CO004  0.3723 -0.2102  ... -0.3539 -0.1730 -0.1430  0.2842  0.3400  0.0060   \n",
       "\n",
       "         ZRANB2    ZW10     ZYX   ZZEF1  \n",
       "01CO005  0.3980  0.1540  0.1540 -0.9730  \n",
       "01CO006  0.1669  0.1270 -1.4230 -0.1178  \n",
       "01CO008  0.7830 -0.4062 -0.8079 -0.2120  \n",
       "01CO013 -0.4470  0.4812 -0.0740 -0.5690  \n",
       "01CO014  0.1330  0.3239 -1.4630 -0.4493  \n",
       "...         ...     ...     ...     ...  \n",
       "21CO006 -0.0100  0.3276  0.5363 -0.3352  \n",
       "21CO007  0.3670 -0.1830 -2.3720 -0.2994  \n",
       "22CO004  0.5510  0.2470 -0.8498 -0.3182  \n",
       "22CO006 -0.0974 -0.1570 -1.1416 -0.4560  \n",
       "27CO004 -0.3062  0.4580 -0.7280 -0.0883  \n",
       "\n",
       "[96 rows x 4376 columns]"
      ]
     },
     "execution_count": 63,
     "metadata": {},
     "output_type": "execute_result"
    }
   ],
   "source": [
    "data"
   ]
  },
  {
   "cell_type": "code",
   "execution_count": 64,
   "metadata": {},
   "outputs": [],
   "source": [
    "d = data.values"
   ]
  },
  {
   "cell_type": "code",
   "execution_count": 113,
   "metadata": {},
   "outputs": [],
   "source": [
    "disMat = sch.distance.pdist(d,'cityblock') "
   ]
  },
  {
   "cell_type": "code",
   "execution_count": 114,
   "metadata": {},
   "outputs": [
    {
     "data": {
      "text/plain": [
       "array([2460.121 , 2382.9098, 1864.7811, ..., 2146.4256, 2168.7943,\n",
       "       2186.5961])"
      ]
     },
     "execution_count": 114,
     "metadata": {},
     "output_type": "execute_result"
    }
   ],
   "source": [
    "disMat"
   ]
  },
  {
   "cell_type": "code",
   "execution_count": 115,
   "metadata": {},
   "outputs": [],
   "source": [
    "l = list(range(1,97))"
   ]
  },
  {
   "cell_type": "code",
   "execution_count": 116,
   "metadata": {},
   "outputs": [],
   "source": [
    "Z=sch.linkage(disMat,method='ward')"
   ]
  },
  {
   "cell_type": "code",
   "execution_count": 117,
   "metadata": {},
   "outputs": [
    {
     "data": {
      "image/png": "[encoded data removed]",
      "text/plain": [
       "<Figure size 432x288 with 1 Axes>"
      ]
     },
     "metadata": {
      "needs_background": "light"
     },
     "output_type": "display_data"
    }
   ],
   "source": [
    "P=sch.dendrogram(Z,labels=l)"
   ]
  },
  {
   "cell_type": "code",
   "execution_count": 125,
   "metadata": {},
   "outputs": [],
   "source": [
    "def HierarchicalClust_old(data,distance,linkage,k):\n",
    "    from sklearn.cluster import AgglomerativeClustering\n",
    "    clustering = AgglomerativeClustering(n_clusters=k, affinity=distance, linkage=linkage,\n",
    "                                             compute_full_tree='auto', connectivity=None, distance_threshold=None,\n",
    "                                             memory=None).fit(d)\n",
    "    print(list(clustering.labels_))\n",
    "    return list(clustering.labels_)"
   ]
  },
  {
   "cell_type": "code",
   "execution_count": 126,
   "metadata": {},
   "outputs": [],
   "source": [
    "def HierarchicalClust(data,distance,linkage,k):\n",
    "\n",
    "    disMat = sch.distance.pdist(data,distance)\n",
    "    Z = sch.linkage(disMat,method=linkage) \n",
    "    clustered = cluster.hierarchy.cut_tree(Z,k)\n",
    "    cluster_result = []\n",
    "    for i in clustered:\n",
    "        cluster_result.append(i[0])\n",
    "    print(cluster_result)\n",
    "    return cluster_result"
   ]
  },
  {
   "cell_type": "code",
   "execution_count": 127,
   "metadata": {},
   "outputs": [
    {
     "name": "stdout",
     "output_type": "stream",
     "text": [
      "[2, 3, 3, 1, 1, 4, 4, 0, 1, 0, 1, 3, 0, 1, 1, 3, 4, 1, 0, 2, 4, 1, 1, 1, 0, 0, 1, 1, 2, 1, 1, 3, 4, 0, 0, 1, 1, 0, 1, 1, 0, 2, 2, 4, 2, 0, 0, 4, 0, 0, 0, 0, 2, 4, 0, 0, 2, 0, 0, 2, 4, 2, 0, 0, 2, 0, 0, 2, 2, 0, 0, 0, 2, 0, 0, 0, 1, 0, 2, 4, 3, 3, 3, 2, 2, 1, 0, 2, 1, 3, 4, 2, 3, 4, 0, 1]\n"
     ]
    }
   ],
   "source": [
    "a = HierarchicalClust_old(d,'euclidean','ward',5)"
   ]
  },
  {
   "cell_type": "code",
   "execution_count": 128,
   "metadata": {},
   "outputs": [
    {
     "name": "stdout",
     "output_type": "stream",
     "text": [
      "[0, 1, 1, 2, 2, 3, 3, 4, 2, 4, 2, 1, 4, 2, 2, 1, 3, 2, 4, 0, 3, 2, 2, 2, 4, 4, 2, 2, 0, 2, 2, 1, 3, 4, 4, 2, 2, 4, 2, 2, 4, 0, 0, 3, 0, 4, 4, 3, 4, 4, 4, 4, 0, 3, 4, 4, 0, 4, 4, 0, 3, 0, 4, 4, 0, 4, 4, 0, 0, 4, 4, 4, 0, 4, 4, 4, 2, 4, 0, 3, 1, 1, 1, 0, 0, 2, 4, 0, 2, 1, 3, 0, 1, 3, 4, 2]\n"
     ]
    }
   ],
   "source": [
    "b = HierarchicalClust(d,'euclidean','ward',5)"
   ]
  },
  {
   "cell_type": "code",
   "execution_count": 130,
   "metadata": {},
   "outputs": [
    {
     "name": "stdout",
     "output_type": "stream",
     "text": [
      "[0, 1, 1, 2, 2, 3, 3, 4, 2, 4, 2, 1, 4, 2, 2, 1, 3, 2, 4, 0, 3, 2, 2, 2, 4, 4, 2, 2, 0, 2, 2, 1, 3, 4, 4, 2, 2, 4, 2, 2, 4, 0, 0, 3, 0, 4, 4, 3, 4, 4, 4, 4, 0, 3, 4, 4, 0, 4, 4, 0, 3, 0, 4, 4, 0, 4, 4, 0, 0, 4, 4, 4, 0, 4, 4, 4, 2, 4, 0, 3, 1, 1, 1, 0, 0, 2, 4, 0, 2, 1, 3, 0, 1, 3, 4, 2]\n"
     ]
    }
   ],
   "source": [
    "maps = {0:4,1:2,2:0,3:1,4:3}\n",
    "new_a = []\n",
    "for i in a:\n",
    "    new_a.append(maps[i])\n",
    "print(new_a)"
   ]
  },
  {
   "cell_type": "code",
   "execution_count": 131,
   "metadata": {},
   "outputs": [
    {
     "data": {
      "text/plain": [
       "True"
      ]
     },
     "execution_count": 131,
     "metadata": {},
     "output_type": "execute_result"
    }
   ],
   "source": [
    "new_a == b"
   ]
  }
 ],
 "metadata": {
  "kernelspec": {
   "display_name": "Python 3",
   "language": "python",
   "name": "python3"
  },
  "language_info": {
   "codemirror_mode": {
    "name": "ipython",
    "version": 3
   },
   "file_extension": ".py",
   "mimetype": "text/x-python",
   "name": "python",
   "nbconvert_exporter": "python",
   "pygments_lexer": "ipython3",
   "version": "3.7.6"
  }
 },
 "nbformat": 4,
 "nbformat_minor": 2
}
