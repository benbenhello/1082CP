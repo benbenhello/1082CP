{
 "cells": [
  {
   "cell_type": "code",
   "execution_count": 44,
   "metadata": {},
   "outputs": [],
   "source": [
    "%matplotlib inline\n",
    "\n",
    "import numpy as np\n",
    "import matplotlib.pyplot as plt\n",
    "import pandas as pd"
   ]
  },
  {
   "cell_type": "markdown",
   "metadata": {},
   "source": [
    "# 第一題_算閏年"
   ]
  },
  {
   "cell_type": "code",
   "execution_count": 53,
   "metadata": {},
   "outputs": [],
   "source": [
    "def leap(year):\n",
    "    if((year%4 == 0 and year%100 != 0)or year%400 == 0):\n",
    "        print(\"{}是閏年\\n\".format(year))\n",
    "    else:\n",
    "        print(\"{}不是閏年\\n\".format(year))"
   ]
  },
  {
   "cell_type": "code",
   "execution_count": 54,
   "metadata": {},
   "outputs": [
    {
     "name": "stdout",
     "output_type": "stream",
     "text": [
      "2020是閏年\n",
      "\n",
      "2000是閏年\n",
      "\n",
      "2001不是閏年\n",
      "\n",
      "4是閏年\n",
      "\n"
     ]
    }
   ],
   "source": [
    "leap(2020)\n",
    "leap(2000)\n",
    "leap(2001)\n",
    "leap(4)"
   ]
  },
  {
   "cell_type": "markdown",
   "metadata": {},
   "source": [
    "# 第二題_請實作五乘五矩陣的矩陣加法函式"
   ]
  },
  {
   "cell_type": "code",
   "execution_count": 55,
   "metadata": {},
   "outputs": [],
   "source": [
    "def matrix_plus(m1,m2):\n",
    "    return np.array(m1)+np.array(m2)"
   ]
  },
  {
   "cell_type": "code",
   "execution_count": 62,
   "metadata": {},
   "outputs": [],
   "source": [
    "m1 = np.random.rand(5,5)\n",
    "m2 = np.random.rand(5,5)"
   ]
  },
  {
   "cell_type": "code",
   "execution_count": 64,
   "metadata": {},
   "outputs": [
    {
     "data": {
      "text/plain": [
       "array([[1.11031615, 0.8545196 , 0.89989935, 1.32329866, 0.77744455],\n",
       "       [1.15572834, 1.62518506, 0.98240966, 0.91404617, 1.28443621],\n",
       "       [0.53790753, 0.65183276, 0.45110669, 0.9789953 , 1.33714124],\n",
       "       [0.60921574, 1.24245899, 1.63166494, 1.26356031, 0.51573722],\n",
       "       [1.08100439, 0.0602656 , 0.69055486, 0.66855096, 0.26669538]])"
      ]
     },
     "execution_count": 64,
     "metadata": {},
     "output_type": "execute_result"
    }
   ],
   "source": [
    "m_sum = matrix_plus(m1,m2)\n",
    "m_sum"
   ]
  },
  {
   "cell_type": "markdown",
   "metadata": {},
   "source": [
    "# 第三題_錄取分數表格"
   ]
  },
  {
   "cell_type": "code",
   "execution_count": 68,
   "metadata": {},
   "outputs": [],
   "source": [
    "score = np.array([86.5, 79.4, 88.2, 96.5, 86.3, 76.8, 96.1, 78.5, 82.4, 88.6])\n",
    "college = {\n",
    "\"土語系\": [2, 2, 0, 1, 0, 0, 0, 1, 1, 0],\n",
    "\"財政系\": [1, 1.5, 0, 1.5, 0, 0, 0, 0, 0, 0],\n",
    "\"金融系\": [1, 1.5, 0, 2, 0, 0, 0, 0, 0, 0],\n",
    "\"國貿系\": [1.5, 2, 0, 2, 0, 0, 0, 0, 0, 0],\n",
    "\"會計系\": [1.5, 2, 0, 2, 0, 0, 0, 1, 1, 0],\n",
    "\"法律系\": [1, 2, 0, 1, 0, 0, 0, 1, 0, 1],\n",
    "\"公行系\": [1, 1.5, 0, 1.25, 0, 0, 0, 0, 0, 1.25],\n",
    "\"應數系\": [1, 1, 1.5, 0, 1, 1, 0, 0, 0, 0],\n",
    "\"教育系\": [1.5, 2, 0, 1.25, 0, 0, 0, 1, 1, 0]\n",
    "}"
   ]
  },
  {
   "cell_type": "code",
   "execution_count": 73,
   "metadata": {},
   "outputs": [],
   "source": [
    "data = []\n",
    "index = []\n",
    "column =  ['國文', '英文', '數甲', '數乙', '物理', '化學', '生物', '歷史', '地理', '公民']\n",
    "for i in college:\n",
    "    index.append(i)\n",
    "    data.append(college[i])\n",
    "df = pd.DataFrame(data,index=index,columns=column)"
   ]
  },
  {
   "cell_type": "code",
   "execution_count": 80,
   "metadata": {},
   "outputs": [],
   "source": [
    "df[\"加權分數\"] = (df[column]*score).sum(1)"
   ]
  },
  {
   "cell_type": "code",
   "execution_count": 81,
   "metadata": {},
   "outputs": [
    {
     "data": {
      "text/html": [
       "<div>\n",
       "<style scoped>\n",
       "    .dataframe tbody tr th:only-of-type {\n",
       "        vertical-align: middle;\n",
       "    }\n",
       "\n",
       "    .dataframe tbody tr th {\n",
       "        vertical-align: top;\n",
       "    }\n",
       "\n",
       "    .dataframe thead th {\n",
       "        text-align: right;\n",
       "    }\n",
       "</style>\n",
       "<table border=\"1\" class=\"dataframe\">\n",
       "  <thead>\n",
       "    <tr style=\"text-align: right;\">\n",
       "      <th></th>\n",
       "      <th>國文</th>\n",
       "      <th>英文</th>\n",
       "      <th>數甲</th>\n",
       "      <th>數乙</th>\n",
       "      <th>物理</th>\n",
       "      <th>化學</th>\n",
       "      <th>生物</th>\n",
       "      <th>歷史</th>\n",
       "      <th>地理</th>\n",
       "      <th>公民</th>\n",
       "      <th>加權分數</th>\n",
       "    </tr>\n",
       "  </thead>\n",
       "  <tbody>\n",
       "    <tr>\n",
       "      <td>土語系</td>\n",
       "      <td>2.0</td>\n",
       "      <td>2.0</td>\n",
       "      <td>0.0</td>\n",
       "      <td>1.00</td>\n",
       "      <td>0</td>\n",
       "      <td>0</td>\n",
       "      <td>0</td>\n",
       "      <td>1</td>\n",
       "      <td>1</td>\n",
       "      <td>0.00</td>\n",
       "      <td>589.200</td>\n",
       "    </tr>\n",
       "    <tr>\n",
       "      <td>財政系</td>\n",
       "      <td>1.0</td>\n",
       "      <td>1.5</td>\n",
       "      <td>0.0</td>\n",
       "      <td>1.50</td>\n",
       "      <td>0</td>\n",
       "      <td>0</td>\n",
       "      <td>0</td>\n",
       "      <td>0</td>\n",
       "      <td>0</td>\n",
       "      <td>0.00</td>\n",
       "      <td>350.350</td>\n",
       "    </tr>\n",
       "    <tr>\n",
       "      <td>金融系</td>\n",
       "      <td>1.0</td>\n",
       "      <td>1.5</td>\n",
       "      <td>0.0</td>\n",
       "      <td>2.00</td>\n",
       "      <td>0</td>\n",
       "      <td>0</td>\n",
       "      <td>0</td>\n",
       "      <td>0</td>\n",
       "      <td>0</td>\n",
       "      <td>0.00</td>\n",
       "      <td>398.600</td>\n",
       "    </tr>\n",
       "    <tr>\n",
       "      <td>國貿系</td>\n",
       "      <td>1.5</td>\n",
       "      <td>2.0</td>\n",
       "      <td>0.0</td>\n",
       "      <td>2.00</td>\n",
       "      <td>0</td>\n",
       "      <td>0</td>\n",
       "      <td>0</td>\n",
       "      <td>0</td>\n",
       "      <td>0</td>\n",
       "      <td>0.00</td>\n",
       "      <td>481.550</td>\n",
       "    </tr>\n",
       "    <tr>\n",
       "      <td>會計系</td>\n",
       "      <td>1.5</td>\n",
       "      <td>2.0</td>\n",
       "      <td>0.0</td>\n",
       "      <td>2.00</td>\n",
       "      <td>0</td>\n",
       "      <td>0</td>\n",
       "      <td>0</td>\n",
       "      <td>1</td>\n",
       "      <td>1</td>\n",
       "      <td>0.00</td>\n",
       "      <td>642.450</td>\n",
       "    </tr>\n",
       "    <tr>\n",
       "      <td>法律系</td>\n",
       "      <td>1.0</td>\n",
       "      <td>2.0</td>\n",
       "      <td>0.0</td>\n",
       "      <td>1.00</td>\n",
       "      <td>0</td>\n",
       "      <td>0</td>\n",
       "      <td>0</td>\n",
       "      <td>1</td>\n",
       "      <td>0</td>\n",
       "      <td>1.00</td>\n",
       "      <td>508.900</td>\n",
       "    </tr>\n",
       "    <tr>\n",
       "      <td>公行系</td>\n",
       "      <td>1.0</td>\n",
       "      <td>1.5</td>\n",
       "      <td>0.0</td>\n",
       "      <td>1.25</td>\n",
       "      <td>0</td>\n",
       "      <td>0</td>\n",
       "      <td>0</td>\n",
       "      <td>0</td>\n",
       "      <td>0</td>\n",
       "      <td>1.25</td>\n",
       "      <td>436.975</td>\n",
       "    </tr>\n",
       "    <tr>\n",
       "      <td>應數系</td>\n",
       "      <td>1.0</td>\n",
       "      <td>1.0</td>\n",
       "      <td>1.5</td>\n",
       "      <td>0.00</td>\n",
       "      <td>1</td>\n",
       "      <td>1</td>\n",
       "      <td>0</td>\n",
       "      <td>0</td>\n",
       "      <td>0</td>\n",
       "      <td>0.00</td>\n",
       "      <td>461.300</td>\n",
       "    </tr>\n",
       "    <tr>\n",
       "      <td>教育系</td>\n",
       "      <td>1.5</td>\n",
       "      <td>2.0</td>\n",
       "      <td>0.0</td>\n",
       "      <td>1.25</td>\n",
       "      <td>0</td>\n",
       "      <td>0</td>\n",
       "      <td>0</td>\n",
       "      <td>1</td>\n",
       "      <td>1</td>\n",
       "      <td>0.00</td>\n",
       "      <td>570.075</td>\n",
       "    </tr>\n",
       "  </tbody>\n",
       "</table>\n",
       "</div>"
      ],
      "text/plain": [
       "      國文   英文   數甲    數乙  物理  化學  生物  歷史  地理    公民     加權分數\n",
       "土語系  2.0  2.0  0.0  1.00   0   0   0   1   1  0.00  589.200\n",
       "財政系  1.0  1.5  0.0  1.50   0   0   0   0   0  0.00  350.350\n",
       "金融系  1.0  1.5  0.0  2.00   0   0   0   0   0  0.00  398.600\n",
       "國貿系  1.5  2.0  0.0  2.00   0   0   0   0   0  0.00  481.550\n",
       "會計系  1.5  2.0  0.0  2.00   0   0   0   1   1  0.00  642.450\n",
       "法律系  1.0  2.0  0.0  1.00   0   0   0   1   0  1.00  508.900\n",
       "公行系  1.0  1.5  0.0  1.25   0   0   0   0   0  1.25  436.975\n",
       "應數系  1.0  1.0  1.5  0.00   1   1   0   0   0  0.00  461.300\n",
       "教育系  1.5  2.0  0.0  1.25   0   0   0   1   1  0.00  570.075"
      ]
     },
     "execution_count": 81,
     "metadata": {},
     "output_type": "execute_result"
    }
   ],
   "source": [
    "df"
   ]
  },
  {
   "cell_type": "markdown",
   "metadata": {},
   "source": [
    "# 挑戰題一_Bubble Sort"
   ]
  },
  {
   "cell_type": "code",
   "execution_count": 105,
   "metadata": {},
   "outputs": [],
   "source": [
    "def bubble_sort(x):\n",
    "    for i in range(len(x)-1):\n",
    "        for j in range(len(x)-1-i):\n",
    "            if x[j]>x[j+1]:\n",
    "                temp = x[j]\n",
    "                x[j] = x[j+1]\n",
    "                x[j+1] = temp"
   ]
  },
  {
   "cell_type": "code",
   "execution_count": 107,
   "metadata": {},
   "outputs": [
    {
     "name": "stdout",
     "output_type": "stream",
     "text": [
      "data before sorting : \n",
      "[13, 14, 17, 7, 4, 6, 10, 19, 15, 16, 5, 2, 3, 11, 1, 12, 9, 8, 18]\n",
      "\n",
      "data after sorting : \n",
      "[1, 2, 3, 4, 5, 6, 7, 8, 9, 10, 11, 12, 13, 14, 15, 16, 17, 18, 19]\n"
     ]
    }
   ],
   "source": [
    "data = list(range(1,20))\n",
    "np.random.shuffle(data)\n",
    "print(\"data before sorting : \\n{}\\n\".format(data))\n",
    "bubble_sort(data)\n",
    "print(\"data after sorting : \\n{}\".format(data))"
   ]
  }
 ],
 "metadata": {
  "kernelspec": {
   "display_name": "Python 3",
   "language": "python",
   "name": "python3"
  },
  "language_info": {
   "codemirror_mode": {
    "name": "ipython",
    "version": 3
   },
   "file_extension": ".py",
   "mimetype": "text/x-python",
   "name": "python",
   "nbconvert_exporter": "python",
   "pygments_lexer": "ipython3",
   "version": "3.7.6"
  }
 },
 "nbformat": 4,
 "nbformat_minor": 2
}
